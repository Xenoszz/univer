{
 "cells": [
  {
   "cell_type": "code",
   "execution_count": 1,
   "metadata": {},
   "outputs": [
    {
     "name": "stdout",
     "output_type": "stream",
     "text": [
      "จำนวนเฉพาะตัวที่ 100 คือ [2, 3, 5, 7, 11, 13, 17, 19, 23, 29, 31, 37, 41, 43, 47, 53, 59, 61, 67, 71, 73, 79, 83, 89, 97]\n"
     ]
    }
   ],
   "source": [
    "def sieve_of_eratosthenes(n):\n",
    "  \"\"\"\n",
    "  ฟังก์ชันนี้ใช้ Sieve of Eratosthenes หาจำนวนเฉพาะตัวที่ n\n",
    "\n",
    "  Args:\n",
    "    n: จำนวนเต็มบวกที่ต้องการหาจำนวนเฉพาะตัวที่ n\n",
    "\n",
    "  Returns:\n",
    "    list: รายการของจำนวนเฉพาะที่น้อยกว่าหรือเท่ากับ n\n",
    "  \"\"\"\n",
    "\n",
    "  # สร้างรายการเริ่มต้นโดยทุกจำนวนเป็นจำนวนเฉพาะ\n",
    "  primes = [True] * (n + 1)\n",
    "\n",
    "  # ตัดจำนวนที่ไม่ใช่จำนวนเฉพาะออก\n",
    "  for i in range(2, n + 1):\n",
    "    if primes[i]:\n",
    "      # ตัดค่าที่เป็นพหุคูณของ i ทั้งหมด\n",
    "      for j in range(i * i, n + 1, i):\n",
    "        primes[j] = False\n",
    "\n",
    "  # แปลงรายการเป็นรายการของจำนวนเฉพาะ\n",
    "  prime_numbers = []\n",
    "  for i in range(2, n + 1):\n",
    "    if primes[i]:\n",
    "      prime_numbers.append(i)\n",
    "\n",
    "  return prime_numbers\n",
    "\n",
    "# ตัวอย่างการใช้งาน\n",
    "n = 100  # หาจำนวนเฉพาะตัวที่ 100\n",
    "prime_numbers = sieve_of_eratosthenes(n)\n",
    "print(f\"จำนวนเฉพาะตัวที่ {n} คือ {prime_numbers}\")\n"
   ]
  }
 ],
 "metadata": {
  "kernelspec": {
   "display_name": "Python 3",
   "language": "python",
   "name": "python3"
  },
  "language_info": {
   "codemirror_mode": {
    "name": "ipython",
    "version": 3
   },
   "file_extension": ".py",
   "mimetype": "text/x-python",
   "name": "python",
   "nbconvert_exporter": "python",
   "pygments_lexer": "ipython3",
   "version": "3.12.2"
  }
 },
 "nbformat": 4,
 "nbformat_minor": 2
}
